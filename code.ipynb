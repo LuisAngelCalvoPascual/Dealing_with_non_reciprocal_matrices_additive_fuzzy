import numpy as np
import pandas as pd

# Configuración
n_matrices = 10000
n_runs = 10
percentiles_to_calculate = [0.1, 1, 2, 3, 4, 5, 10, 20, 25, 50]
matrix_sizes = range(2, 9)  # De 2x2 a 8x8

def generate_random_matrices(n_matrices, size):
    """Genera matrices aleatorias con 1's en la diagonal y valores aleatorios fuera de ella."""
    a = np.ones((n_matrices, size, size))
    random_numbers = np.random.uniform(0.0001, 0.9999, (n_matrices, size, size))
    mask = ~np.eye(size, dtype=bool)
    a[:, mask] = random_numbers[:, mask]
    return a

def calculate_non_reciprocity(norm, a):
    """Calcula la no reciprocidad según la norma especificada."""
    size = a.shape[1]
    indices = [(i, j) for i in range(size) for j in range(i + 1, size)]
    ln_t_list = []
    epsilon = 1e-10

    for (i, j) in indices:
        a_ij = a[:, i, j]
        a_ji = a[:, j, i]
        t = a_ij * a_ji / ((1 - a_ij) * (1 - a_ji))
        t = np.maximum(t, epsilon)
        ln_t = np.abs(np.log(t))
        ln_t_list.append(ln_t)

    ln_t_array = np.array(ln_t_list)

    if norm == 1:
        return np.sum(ln_t_array, axis=0)
    elif norm == 2:
        return np.sqrt(np.sum(ln_t_array ** 2, axis=0))
    elif norm == np.inf:
        return np.max(ln_t_array, axis=0)
    else:
        raise ValueError("Norma no soportada. Usa 1, 2 o np.inf.")

def generate_results_for_norm(size, norm, filename):
    """Genera resultados para un tamaño y norma de matriz dados."""
    results_list = []
    for percentile in percentiles_to_calculate:
        run_percentiles = []
        for _ in range(n_runs):
            a = generate_random_matrices(n_matrices, size)
            non_reciprocity = calculate_non_reciprocity(norm, a)
            run_percentile_value = np.percentile(non_reciprocity, percentile)
            run_percentiles.append(run_percentile_value)

        average_percentile = np.mean(run_percentiles)
        row = {"percentile": percentile, **{f"Run {i+1}": val for i, val in enumerate(run_percentiles)}, "Avg": average_percentile}
        results_list.append(row)

    results = pd.DataFrame(results_list)
    results.to_excel(filename, index=False)

# Ejecutar para todos los tamaños y normas
for size in matrix_sizes:
    for norm in [1, 2, np.inf]:
        generate_results_for_norm(size, norm, f"n_{size}x{size}_p_{norm}.xlsx")
