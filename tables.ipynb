{
 "cells": [
  {
   "cell_type": "code",
   "execution_count": 1,
   "id": "33226c87-c2be-423f-b31d-7a811d6c53c4",
   "metadata": {},
   "outputs": [],
   "source": [
    "import pandas as pd\n",
    "import glob\n",
    "\n",
    "# Archivos fuzzy\n",
    "files_fuzzy_p1 = sorted(glob.glob(\"fuzzy_*x*_p1.xlsx\"))\n",
    "files_fuzzy_p2 = sorted(glob.glob(\"fuzzy_*x*_p2.xlsx\"))\n",
    "files_fuzzy_pinf = sorted(glob.glob(\"fuzzy_*x*_pinf.xlsx\"))\n",
    "\n",
    "# Archivos additive\n",
    "files_add_p1 = sorted(glob.glob(\"additive_*x*_p1.xlsx\"))\n",
    "files_add_p2 = sorted(glob.glob(\"additive_*x*_p2.xlsx\"))\n",
    "files_add_pinf = sorted(glob.glob(\"additive_*x*_pinf.xlsx\"))\n",
    "\n",
    "# Función para construir una tabla\n",
    "def build_table(files):\n",
    "    n_list = []\n",
    "    table_data = []\n",
    "    for file in files:\n",
    "        n = int(file.split('_')[1][0])  # Extraer n\n",
    "        df = pd.read_excel(file)\n",
    "        # Extraer solo la columna 'percentile' y 'Avg'\n",
    "        percentiles = df['percentile'].values\n",
    "        avg_values = df['Avg'].values\n",
    "        row = dict(zip(percentiles, avg_values))\n",
    "        n_list.append(n)\n",
    "        table_data.append(row)\n",
    "    # Crear DataFrame final\n",
    "    final_df = pd.DataFrame(table_data, index=n_list)\n",
    "    final_df.index.name = 'n'\n",
    "    final_df = final_df[[0.1, 1, 2, 3, 4, 5, 10, 20, 25, 50]]  # Ordenar columnas\n",
    "    return final_df.sort_index()\n",
    "\n",
    "# Crear tablas\n",
    "table1 = build_table(files_fuzzy_p1)\n",
    "table2 = build_table(files_fuzzy_p2)\n",
    "table3 = build_table(files_fuzzy_pinf)\n",
    "\n",
    "table4 = build_table(files_add_p1)\n",
    "table5 = build_table(files_add_p2)\n",
    "table6 = build_table(files_add_pinf)\n",
    "\n",
    "# Guardar en Excel\n",
    "with pd.ExcelWriter('percentile_tables_fuzzy_additive.xlsx') as writer:\n",
    "    table1.to_excel(writer, sheet_name='Table 1')\n",
    "    table2.to_excel(writer, sheet_name='Table 2')\n",
    "    table3.to_excel(writer, sheet_name='Table 3')\n",
    "    table4.to_excel(writer, sheet_name='Table 4')\n",
    "    table5.to_excel(writer, sheet_name='Table 5')\n",
    "    table6.to_excel(writer, sheet_name='Table 6')\n"
   ]
  }
 ],
 "metadata": {
  "kernelspec": {
   "display_name": "Python 3 (ipykernel)",
   "language": "python",
   "name": "python3"
  },
  "language_info": {
   "codemirror_mode": {
    "name": "ipython",
    "version": 3
   },
   "file_extension": ".py",
   "mimetype": "text/x-python",
   "name": "python",
   "nbconvert_exporter": "python",
   "pygments_lexer": "ipython3",
   "version": "3.11.5"
  }
 },
 "nbformat": 4,
 "nbformat_minor": 5
}
